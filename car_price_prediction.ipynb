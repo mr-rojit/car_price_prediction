{
 "cells": [
  {
   "cell_type": "markdown",
   "id": "ef9f66b6",
   "metadata": {},
   "source": [
    "### <center> Importing essential libraries </center>"
   ]
  },
  {
   "cell_type": "code",
   "execution_count": 1,
   "id": "3d27716d",
   "metadata": {},
   "outputs": [],
   "source": [
    "import numpy as np\n",
    "import pandas as pd"
   ]
  },
  {
   "cell_type": "markdown",
   "id": "c2e2d1ea",
   "metadata": {},
   "source": [
    "### <center>Loading dataset from csv file as a dataframe and inspection top 5 records </center>"
   ]
  },
  {
   "cell_type": "code",
   "execution_count": 2,
   "id": "b9a2db46",
   "metadata": {},
   "outputs": [
    {
     "data": {
      "text/html": [
       "<div>\n",
       "<style scoped>\n",
       "    .dataframe tbody tr th:only-of-type {\n",
       "        vertical-align: middle;\n",
       "    }\n",
       "\n",
       "    .dataframe tbody tr th {\n",
       "        vertical-align: top;\n",
       "    }\n",
       "\n",
       "    .dataframe thead th {\n",
       "        text-align: right;\n",
       "    }\n",
       "</style>\n",
       "<table border=\"1\" class=\"dataframe\">\n",
       "  <thead>\n",
       "    <tr style=\"text-align: right;\">\n",
       "      <th></th>\n",
       "      <th>Unnamed: 0</th>\n",
       "      <th>brand</th>\n",
       "      <th>model</th>\n",
       "      <th>color</th>\n",
       "      <th>registration_date</th>\n",
       "      <th>year</th>\n",
       "      <th>price_in_euro</th>\n",
       "      <th>power_kw</th>\n",
       "      <th>power_ps</th>\n",
       "      <th>transmission_type</th>\n",
       "      <th>fuel_type</th>\n",
       "      <th>fuel_consumption_l_100km</th>\n",
       "      <th>fuel_consumption_g_km</th>\n",
       "      <th>mileage_in_km</th>\n",
       "      <th>offer_description</th>\n",
       "    </tr>\n",
       "  </thead>\n",
       "  <tbody>\n",
       "    <tr>\n",
       "      <th>0</th>\n",
       "      <td>0</td>\n",
       "      <td>alfa-romeo</td>\n",
       "      <td>Alfa Romeo GTV</td>\n",
       "      <td>red</td>\n",
       "      <td>10/1995</td>\n",
       "      <td>1995</td>\n",
       "      <td>1300</td>\n",
       "      <td>148</td>\n",
       "      <td>201</td>\n",
       "      <td>Manual</td>\n",
       "      <td>Petrol</td>\n",
       "      <td>10,9 l/100 km</td>\n",
       "      <td>260 g/km</td>\n",
       "      <td>160500.0</td>\n",
       "      <td>2.0 V6 TB</td>\n",
       "    </tr>\n",
       "    <tr>\n",
       "      <th>1</th>\n",
       "      <td>1</td>\n",
       "      <td>alfa-romeo</td>\n",
       "      <td>Alfa Romeo 164</td>\n",
       "      <td>black</td>\n",
       "      <td>02/1995</td>\n",
       "      <td>1995</td>\n",
       "      <td>24900</td>\n",
       "      <td>191</td>\n",
       "      <td>260</td>\n",
       "      <td>Manual</td>\n",
       "      <td>Petrol</td>\n",
       "      <td>NaN</td>\n",
       "      <td>- (g/km)</td>\n",
       "      <td>190000.0</td>\n",
       "      <td>Q4 Allrad, 3.2L GTA</td>\n",
       "    </tr>\n",
       "    <tr>\n",
       "      <th>2</th>\n",
       "      <td>2</td>\n",
       "      <td>alfa-romeo</td>\n",
       "      <td>Alfa Romeo Spider</td>\n",
       "      <td>black</td>\n",
       "      <td>02/1995</td>\n",
       "      <td>1995</td>\n",
       "      <td>5900</td>\n",
       "      <td>110</td>\n",
       "      <td>150</td>\n",
       "      <td>Unknown</td>\n",
       "      <td>Petrol</td>\n",
       "      <td>NaN</td>\n",
       "      <td>- (g/km)</td>\n",
       "      <td>129000.0</td>\n",
       "      <td>ALFA ROME 916</td>\n",
       "    </tr>\n",
       "    <tr>\n",
       "      <th>3</th>\n",
       "      <td>3</td>\n",
       "      <td>alfa-romeo</td>\n",
       "      <td>Alfa Romeo Spider</td>\n",
       "      <td>black</td>\n",
       "      <td>07/1995</td>\n",
       "      <td>1995</td>\n",
       "      <td>4900</td>\n",
       "      <td>110</td>\n",
       "      <td>150</td>\n",
       "      <td>Manual</td>\n",
       "      <td>Petrol</td>\n",
       "      <td>9,5 l/100 km</td>\n",
       "      <td>225 g/km</td>\n",
       "      <td>189500.0</td>\n",
       "      <td>2.0 16V Twin Spark L</td>\n",
       "    </tr>\n",
       "    <tr>\n",
       "      <th>4</th>\n",
       "      <td>4</td>\n",
       "      <td>alfa-romeo</td>\n",
       "      <td>Alfa Romeo 164</td>\n",
       "      <td>red</td>\n",
       "      <td>11/1996</td>\n",
       "      <td>1996</td>\n",
       "      <td>17950</td>\n",
       "      <td>132</td>\n",
       "      <td>179</td>\n",
       "      <td>Manual</td>\n",
       "      <td>Petrol</td>\n",
       "      <td>7,2 l/100 km</td>\n",
       "      <td>- (g/km)</td>\n",
       "      <td>96127.0</td>\n",
       "      <td>3.0i Super V6, absoluter Topzustand !</td>\n",
       "    </tr>\n",
       "  </tbody>\n",
       "</table>\n",
       "</div>"
      ],
      "text/plain": [
       "   Unnamed: 0       brand              model  color registration_date  year  \\\n",
       "0           0  alfa-romeo     Alfa Romeo GTV    red           10/1995  1995   \n",
       "1           1  alfa-romeo     Alfa Romeo 164  black           02/1995  1995   \n",
       "2           2  alfa-romeo  Alfa Romeo Spider  black           02/1995  1995   \n",
       "3           3  alfa-romeo  Alfa Romeo Spider  black           07/1995  1995   \n",
       "4           4  alfa-romeo     Alfa Romeo 164    red           11/1996  1996   \n",
       "\n",
       "  price_in_euro power_kw power_ps transmission_type fuel_type  \\\n",
       "0          1300      148      201            Manual    Petrol   \n",
       "1         24900      191      260            Manual    Petrol   \n",
       "2          5900      110      150           Unknown    Petrol   \n",
       "3          4900      110      150            Manual    Petrol   \n",
       "4         17950      132      179            Manual    Petrol   \n",
       "\n",
       "  fuel_consumption_l_100km fuel_consumption_g_km  mileage_in_km  \\\n",
       "0            10,9 l/100 km              260 g/km       160500.0   \n",
       "1                      NaN              - (g/km)       190000.0   \n",
       "2                      NaN              - (g/km)       129000.0   \n",
       "3             9,5 l/100 km              225 g/km       189500.0   \n",
       "4             7,2 l/100 km              - (g/km)        96127.0   \n",
       "\n",
       "                       offer_description  \n",
       "0                              2.0 V6 TB  \n",
       "1                    Q4 Allrad, 3.2L GTA  \n",
       "2                          ALFA ROME 916  \n",
       "3                   2.0 16V Twin Spark L  \n",
       "4  3.0i Super V6, absoluter Topzustand !  "
      ]
     },
     "execution_count": 2,
     "metadata": {},
     "output_type": "execute_result"
    }
   ],
   "source": [
    "original_df = pd.read_csv('data.csv')\n",
    "original_df.head()"
   ]
  },
  {
   "cell_type": "markdown",
   "id": "a722e938",
   "metadata": {},
   "source": [
    "### <center>Inspection shape(rows x cols) of dataframe</center>"
   ]
  },
  {
   "cell_type": "code",
   "execution_count": 3,
   "id": "41c5ef0e",
   "metadata": {},
   "outputs": [
    {
     "data": {
      "text/plain": [
       "(251079, 15)"
      ]
     },
     "execution_count": 3,
     "metadata": {},
     "output_type": "execute_result"
    }
   ],
   "source": [
    "original_df.shape"
   ]
  },
  {
   "cell_type": "code",
   "execution_count": 4,
   "id": "d57de83b",
   "metadata": {},
   "outputs": [
    {
     "name": "stdout",
     "output_type": "stream",
     "text": [
      "<class 'pandas.core.frame.DataFrame'>\n",
      "RangeIndex: 251079 entries, 0 to 251078\n",
      "Data columns (total 15 columns):\n",
      " #   Column                    Non-Null Count   Dtype  \n",
      "---  ------                    --------------   -----  \n",
      " 0   Unnamed: 0                251079 non-null  int64  \n",
      " 1   brand                     251079 non-null  object \n",
      " 2   model                     251079 non-null  object \n",
      " 3   color                     250913 non-null  object \n",
      " 4   registration_date         251075 non-null  object \n",
      " 5   year                      251079 non-null  object \n",
      " 6   price_in_euro             251079 non-null  object \n",
      " 7   power_kw                  250945 non-null  object \n",
      " 8   power_ps                  250950 non-null  object \n",
      " 9   transmission_type         251079 non-null  object \n",
      " 10  fuel_type                 251079 non-null  object \n",
      " 11  fuel_consumption_l_100km  224206 non-null  object \n",
      " 12  fuel_consumption_g_km     251079 non-null  object \n",
      " 13  mileage_in_km             250927 non-null  float64\n",
      " 14  offer_description         251078 non-null  object \n",
      "dtypes: float64(1), int64(1), object(13)\n",
      "memory usage: 28.7+ MB\n"
     ]
    }
   ],
   "source": [
    "original_df.info()"
   ]
  },
  {
   "cell_type": "markdown",
   "id": "d098792e",
   "metadata": {},
   "source": [
    "### Our target variable(price) is in string format so converting it into float"
   ]
  },
  {
   "cell_type": "code",
   "execution_count": 5,
   "id": "6f13aaa9",
   "metadata": {},
   "outputs": [],
   "source": [
    "original_df['price_in_euro'] = pd.to_numeric(original_df['price_in_euro'], errors='coerce')"
   ]
  },
  {
   "cell_type": "code",
   "execution_count": 6,
   "id": "f9a50cad",
   "metadata": {},
   "outputs": [
    {
     "data": {
      "text/html": [
       "<div>\n",
       "<style scoped>\n",
       "    .dataframe tbody tr th:only-of-type {\n",
       "        vertical-align: middle;\n",
       "    }\n",
       "\n",
       "    .dataframe tbody tr th {\n",
       "        vertical-align: top;\n",
       "    }\n",
       "\n",
       "    .dataframe thead th {\n",
       "        text-align: right;\n",
       "    }\n",
       "</style>\n",
       "<table border=\"1\" class=\"dataframe\">\n",
       "  <thead>\n",
       "    <tr style=\"text-align: right;\">\n",
       "      <th></th>\n",
       "      <th>Unnamed: 0</th>\n",
       "      <th>price_in_euro</th>\n",
       "      <th>mileage_in_km</th>\n",
       "    </tr>\n",
       "  </thead>\n",
       "  <tbody>\n",
       "    <tr>\n",
       "      <th>count</th>\n",
       "      <td>251079.000000</td>\n",
       "      <td>2.508800e+05</td>\n",
       "      <td>2.509270e+05</td>\n",
       "    </tr>\n",
       "    <tr>\n",
       "      <th>mean</th>\n",
       "      <td>125539.000000</td>\n",
       "      <td>2.613753e+04</td>\n",
       "      <td>8.534002e+04</td>\n",
       "    </tr>\n",
       "    <tr>\n",
       "      <th>std</th>\n",
       "      <td>72480.408456</td>\n",
       "      <td>3.698795e+04</td>\n",
       "      <td>7.871706e+04</td>\n",
       "    </tr>\n",
       "    <tr>\n",
       "      <th>min</th>\n",
       "      <td>0.000000</td>\n",
       "      <td>1.200000e+02</td>\n",
       "      <td>0.000000e+00</td>\n",
       "    </tr>\n",
       "    <tr>\n",
       "      <th>25%</th>\n",
       "      <td>62769.500000</td>\n",
       "      <td>1.199000e+04</td>\n",
       "      <td>2.490400e+04</td>\n",
       "    </tr>\n",
       "    <tr>\n",
       "      <th>50%</th>\n",
       "      <td>125539.000000</td>\n",
       "      <td>1.989000e+04</td>\n",
       "      <td>6.750000e+04</td>\n",
       "    </tr>\n",
       "    <tr>\n",
       "      <th>75%</th>\n",
       "      <td>188308.500000</td>\n",
       "      <td>2.995000e+04</td>\n",
       "      <td>1.265000e+05</td>\n",
       "    </tr>\n",
       "    <tr>\n",
       "      <th>max</th>\n",
       "      <td>251078.000000</td>\n",
       "      <td>5.890500e+06</td>\n",
       "      <td>3.800000e+06</td>\n",
       "    </tr>\n",
       "  </tbody>\n",
       "</table>\n",
       "</div>"
      ],
      "text/plain": [
       "          Unnamed: 0  price_in_euro  mileage_in_km\n",
       "count  251079.000000   2.508800e+05   2.509270e+05\n",
       "mean   125539.000000   2.613753e+04   8.534002e+04\n",
       "std     72480.408456   3.698795e+04   7.871706e+04\n",
       "min         0.000000   1.200000e+02   0.000000e+00\n",
       "25%     62769.500000   1.199000e+04   2.490400e+04\n",
       "50%    125539.000000   1.989000e+04   6.750000e+04\n",
       "75%    188308.500000   2.995000e+04   1.265000e+05\n",
       "max    251078.000000   5.890500e+06   3.800000e+06"
      ]
     },
     "execution_count": 6,
     "metadata": {},
     "output_type": "execute_result"
    }
   ],
   "source": [
    "original_df.describe()"
   ]
  },
  {
   "cell_type": "markdown",
   "id": "99d6513e",
   "metadata": {},
   "source": [
    "### drop those record/rows with null values in price column"
   ]
  },
  {
   "cell_type": "code",
   "execution_count": 7,
   "id": "86617acf",
   "metadata": {},
   "outputs": [],
   "source": [
    "original_df.dropna(subset=['price_in_euro'], inplace=True)"
   ]
  },
  {
   "cell_type": "code",
   "execution_count": 8,
   "id": "05ab26fd",
   "metadata": {},
   "outputs": [
    {
     "name": "stdout",
     "output_type": "stream",
     "text": [
      "<class 'pandas.core.frame.DataFrame'>\n",
      "Index: 250880 entries, 0 to 251078\n",
      "Data columns (total 15 columns):\n",
      " #   Column                    Non-Null Count   Dtype  \n",
      "---  ------                    --------------   -----  \n",
      " 0   Unnamed: 0                250880 non-null  int64  \n",
      " 1   brand                     250880 non-null  object \n",
      " 2   model                     250880 non-null  object \n",
      " 3   color                     250714 non-null  object \n",
      " 4   registration_date         250880 non-null  object \n",
      " 5   year                      250880 non-null  object \n",
      " 6   price_in_euro             250880 non-null  float64\n",
      " 7   power_kw                  250752 non-null  object \n",
      " 8   power_ps                  250752 non-null  object \n",
      " 9   transmission_type         250880 non-null  object \n",
      " 10  fuel_type                 250880 non-null  object \n",
      " 11  fuel_consumption_l_100km  224007 non-null  object \n",
      " 12  fuel_consumption_g_km     250880 non-null  object \n",
      " 13  mileage_in_km             250818 non-null  float64\n",
      " 14  offer_description         250880 non-null  object \n",
      "dtypes: float64(2), int64(1), object(12)\n",
      "memory usage: 30.6+ MB\n"
     ]
    }
   ],
   "source": [
    "original_df.info()"
   ]
  },
  {
   "cell_type": "code",
   "execution_count": null,
   "id": "51094ecb",
   "metadata": {},
   "outputs": [],
   "source": []
  }
 ],
 "metadata": {
  "kernelspec": {
   "display_name": "Python 3 (ipykernel)",
   "language": "python",
   "name": "python3"
  },
  "language_info": {
   "codemirror_mode": {
    "name": "ipython",
    "version": 3
   },
   "file_extension": ".py",
   "mimetype": "text/x-python",
   "name": "python",
   "nbconvert_exporter": "python",
   "pygments_lexer": "ipython3",
   "version": "3.11.5"
  }
 },
 "nbformat": 4,
 "nbformat_minor": 5
}
